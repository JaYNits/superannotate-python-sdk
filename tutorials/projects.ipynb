{
 "cells": [
  {
   "cell_type": "markdown",
   "metadata": {},
   "source": [
    "# Working with Projects\n",
    "\n",
    "Abstract"
   ]
  },
  {
   "cell_type": "code",
   "execution_count": 1,
   "metadata": {},
   "outputs": [],
   "source": [
    "import superannotate as sa"
   ]
  },
  {
   "cell_type": "code",
   "execution_count": 2,
   "metadata": {},
   "outputs": [
    {
     "name": "stderr",
     "output_type": "stream",
     "text": [
      "SA-PYTHON-SDK - INFO - Created project Lane Annotation (ID 30779) with type Vector\n"
     ]
    }
   ],
   "source": [
    "#create project\n",
    "project = sa.create_project(\n",
    "    project_name = \"Lane Annotation\",\n",
    "    project_description = \"Polyline Annotation for Lane Detection\",\n",
    "    project_type = \"Vector\")"
   ]
  },
  {
   "cell_type": "markdown",
   "metadata": {},
   "source": [
    "<img src=\"files/figures/create.png\">"
   ]
  },
  {
   "cell_type": "code",
   "execution_count": 4,
   "metadata": {},
   "outputs": [
    {
     "name": "stderr",
     "output_type": "stream",
     "text": [
      "SA-PYTHON-SDK - INFO - Uploading all images with extensions ['jpg', 'png'] from ./data/cityscapes to project Lane Annotation. Excluded file patterns are: ['___save.png', '___fuse.png'].\n",
      "SA-PYTHON-SDK - WARNING - 1 already existing images found that won't be uploaded.\n",
      "SA-PYTHON-SDK - INFO - Uploading 3 images to project Lane Annotation.\n",
      "100%|██████████| 3/3 [00:21<00:00,  7.12s/it]\n"
     ]
    }
   ],
   "source": [
    "#upload images\n",
    "uploaded, skipped, duplicates = sa.upload_images_from_folder_to_project(\n",
    "                        project = project[\"name\"],\n",
    "                        folder_path = \"./data/cityscapes\")"
   ]
  },
  {
   "cell_type": "markdown",
   "metadata": {},
   "source": [
    "<img src=\"files/figures/images.png\">"
   ]
  },
  {
   "cell_type": "code",
   "execution_count": 5,
   "metadata": {},
   "outputs": [
    {
     "name": "stderr",
     "output_type": "stream",
     "text": [
      "SA-PYTHON-SDK - INFO - Creating annotation class in project Lane Annotation with name Lane\n"
     ]
    }
   ],
   "source": [
    "#create annotaion class\n",
    "class_metadata = sa.create_annotation_class(\n",
    "                    project = project[\"name\"],\n",
    "                    name = \"Lane\",\n",
    "                    color = \"#FF0000\")"
   ]
  },
  {
   "cell_type": "markdown",
   "metadata": {},
   "source": [
    "<img src=\"files/figures/classes.png\">"
   ]
  },
  {
   "cell_type": "code",
   "execution_count": 7,
   "metadata": {},
   "outputs": [
    {
     "name": "stderr",
     "output_type": "stream",
     "text": [
      "SA-PYTHON-SDK - INFO - The JSON files should follow specific naming convention. For Vector projects they should be named '<image_name>___objects.json', for Pixel projects JSON file should be names '<image_name>___pixel.json' and also second mask image file should be present with the name '<image_name>___save.png'. In both cases image with <image_name> should be already present on the platform.\n",
      "SA-PYTHON-SDK - INFO - Existing annotations will be overwritten.\n",
      "SA-PYTHON-SDK - INFO - Uploading all annotations from ./data/cityscapes to project Lane Annotation.\n",
      "SA-PYTHON-SDK - INFO - Uploading 4 annotations to project Lane Annotation.\n",
      "100%|██████████| 4/4 [00:06<00:00,  1.58s/it]\n",
      "SA-PYTHON-SDK - INFO - Number of annotations uploaded 4.\n"
     ]
    }
   ],
   "source": [
    "#add annotations\n",
    "uploaded_paths = sa.upload_annotations_from_folder_to_project(\n",
    "            project = project[\"name\"],\n",
    "            folder_path = \"./data/cityscapes\")"
   ]
  },
  {
   "cell_type": "markdown",
   "metadata": {},
   "source": [
    "<img src=\"files/figures/annotations.png\">"
   ]
  },
  {
   "cell_type": "code",
   "execution_count": 9,
   "metadata": {},
   "outputs": [
    {
     "name": "stderr",
     "output_type": "stream",
     "text": [
      "SA-PYTHON-SDK - INFO - Created project Lane Annotation:1 (ID 30780) with type Vector\n",
      "SA-PYTHON-SDK - INFO - Copied image Lane Annotation/frankfurt_000000_011074_leftImg8bit.png to Lane Annotation:1/frankfurt_000000_011074_leftImg8bit.png.\n",
      "SA-PYTHON-SDK - INFO - Copied image Lane Annotation/frankfurt_000000_014480_leftImg8bit.png to Lane Annotation:1/frankfurt_000000_014480_leftImg8bit.png.\n",
      "SA-PYTHON-SDK - INFO - Copied image Lane Annotation/frankfurt_000001_011835_leftImg8bit.png to Lane Annotation:1/frankfurt_000001_011835_leftImg8bit.png.\n",
      "SA-PYTHON-SDK - INFO - Copied image Lane Annotation/frankfurt_000001_013016_leftImg8bit.png to Lane Annotation:1/frankfurt_000001_013016_leftImg8bit.png.\n",
      "SA-PYTHON-SDK - INFO - Created project Lane Annotation:2 (ID 30781) with type Vector\n",
      "SA-PYTHON-SDK - INFO - Copied image Lane Annotation/frankfurt_000000_011074_leftImg8bit.png to Lane Annotation:2/frankfurt_000000_011074_leftImg8bit.png.\n",
      "SA-PYTHON-SDK - INFO - Copied image Lane Annotation/frankfurt_000000_014480_leftImg8bit.png to Lane Annotation:2/frankfurt_000000_014480_leftImg8bit.png.\n",
      "SA-PYTHON-SDK - INFO - Copied image Lane Annotation/frankfurt_000001_011835_leftImg8bit.png to Lane Annotation:2/frankfurt_000001_011835_leftImg8bit.png.\n",
      "SA-PYTHON-SDK - INFO - Copied image Lane Annotation/frankfurt_000001_013016_leftImg8bit.png to Lane Annotation:2/frankfurt_000001_013016_leftImg8bit.png.\n",
      "SA-PYTHON-SDK - INFO - Created project Lane Annotation:3 (ID 30782) with type Vector\n",
      "SA-PYTHON-SDK - INFO - Copied image Lane Annotation/frankfurt_000000_011074_leftImg8bit.png to Lane Annotation:3/frankfurt_000000_011074_leftImg8bit.png.\n",
      "SA-PYTHON-SDK - INFO - Copied image Lane Annotation/frankfurt_000000_014480_leftImg8bit.png to Lane Annotation:3/frankfurt_000000_014480_leftImg8bit.png.\n",
      "SA-PYTHON-SDK - INFO - Copied image Lane Annotation/frankfurt_000001_011835_leftImg8bit.png to Lane Annotation:3/frankfurt_000001_011835_leftImg8bit.png.\n",
      "SA-PYTHON-SDK - INFO - Copied image Lane Annotation/frankfurt_000001_013016_leftImg8bit.png to Lane Annotation:3/frankfurt_000001_013016_leftImg8bit.png.\n"
     ]
    }
   ],
   "source": [
    "#clone project \n",
    "source_project_name = project[\"name\"]\n",
    "images = sa.search_images(project = source_project_name)\n",
    "for clone_project_id in range(1, 4):\n",
    "    destination_project_name = \"{}:{}\".format(source_project_name, clone_project_id)\n",
    "    #clone project\n",
    "    sa.clone_project(\n",
    "        project_name = destination_project_name,\n",
    "        from_project = source_project_name,\n",
    "        project_description = project[\"description\"])\n",
    "    \n",
    "    #copy images\n",
    "    for image in images:\n",
    "        sa.copy_image(\n",
    "            source_project = source_project_name,\n",
    "            destination_project = destination_project_name,\n",
    "            image_name = image\n",
    "        )\n"
   ]
  },
  {
   "cell_type": "markdown",
   "metadata": {},
   "source": [
    "<img src=\"files/figures/clone.png\">"
   ]
  },
  {
   "cell_type": "code",
   "execution_count": 12,
   "metadata": {},
   "outputs": [
    {
     "name": "stderr",
     "output_type": "stream",
     "text": [
      "SA-PYTHON-SDK - INFO - Shared project Lane Annotation:1 with user tiruhi@superannotate.com and role Annotator\n"
     ]
    }
   ],
   "source": [
    "#Setup contributers\n",
    "team_metadata = sa.get_team_metadata(convert_users_role_to_string = True)\n",
    "team_members = team_metadata[\"users\"]\n",
    "\n",
    "#Share Project with all Annotators in the team\n",
    "project_name = \"Lane Annotation:1\"\n",
    "sharing_role = \"Annotator\"\n",
    "for member_metadata in team_members:\n",
    "    if member_metadata[\"user_role\"] == sharing_role:\n",
    "        sa.share_project(\n",
    "            project = project_name, \n",
    "            user = member_metadata[\"email\"],\n",
    "            user_role = sharing_role)"
   ]
  },
  {
   "cell_type": "markdown",
   "metadata": {},
   "source": [
    "<img src=\"files/figures/contributers.png\">"
   ]
  },
  {
   "cell_type": "code",
   "execution_count": 7,
   "metadata": {},
   "outputs": [
    {
     "name": "stderr",
     "output_type": "stream",
     "text": [
      "SA-PYTHON-SDK - INFO - Successfully renamed project Lane Annotation to Template Project.\n"
     ]
    }
   ],
   "source": [
    "#rename project\n",
    "sa.rename_project(\n",
    "    project = \"Lane Annotation\",\n",
    "    new_name = \"Template Project\")"
   ]
  },
  {
   "cell_type": "markdown",
   "metadata": {},
   "source": [
    "<img src=\"files/figures/rename.png\">"
   ]
  },
  {
   "cell_type": "code",
   "execution_count": 12,
   "metadata": {},
   "outputs": [
    {
     "name": "stderr",
     "output_type": "stream",
     "text": [
      "SA-PYTHON-SDK - INFO - Prepared export Dec 13 2020 12:45 Arsine.zip for project Lane Annotation (ID 30779).\n",
      "SA-PYTHON-SDK - INFO - Waiting 5 seconds for export to finish on server.\n",
      "SA-PYTHON-SDK - INFO - Waiting 5 seconds for export to finish on server.\n",
      "SA-PYTHON-SDK - INFO - Waiting 5 seconds for export to finish on server.\n",
      "SA-PYTHON-SDK - INFO - Extracted exports/Dec 13 2020 12:45 Arsine.zip to folder ./exports\n",
      "SA-PYTHON-SDK - INFO - Prepared export Dec 13 2020 12:45 Arsine.zip for project Lane Annotation:1 (ID 30780).\n",
      "SA-PYTHON-SDK - INFO - Waiting 5 seconds for export to finish on server.\n",
      "SA-PYTHON-SDK - INFO - Waiting 5 seconds for export to finish on server.\n",
      "SA-PYTHON-SDK - INFO - Extracted exports/Dec 13 2020 12:45 Arsine.zip to folder ./exports\n",
      "SA-PYTHON-SDK - INFO - Prepared export Dec 13 2020 12:45 Arsine.zip for project Lane Annotation:2 (ID 30781).\n",
      "SA-PYTHON-SDK - INFO - Waiting 5 seconds for export to finish on server.\n",
      "SA-PYTHON-SDK - INFO - Extracted exports/Dec 13 2020 12:45 Arsine.zip to folder ./exports\n",
      "SA-PYTHON-SDK - INFO - Prepared export Dec 13 2020 12:45 Arsine.zip for project Lane Annotation:3 (ID 30782).\n",
      "SA-PYTHON-SDK - INFO - Waiting 5 seconds for export to finish on server.\n",
      "SA-PYTHON-SDK - INFO - Waiting 5 seconds for export to finish on server.\n",
      "SA-PYTHON-SDK - INFO - Waiting 5 seconds for export to finish on server.\n",
      "SA-PYTHON-SDK - INFO - Extracted exports/Dec 13 2020 12:45 Arsine.zip to folder ./exports\n"
     ]
    }
   ],
   "source": [
    "import os\n",
    "\n",
    "export_root = \"./exports\"\n",
    "os.makedirs(export_dir, exist_ok = True)\n",
    "#export projects\n",
    "lane_projects = sa.search_projects(name = \"Lane Annotation\", return_metadata = True)\n",
    "\n",
    "for project_metadata in lane_projects:\n",
    "    project_name = project_metadata[\"name\"]\n",
    "    export = sa.prepare_export(project = project_name)\n",
    "    export_dir = \n",
    "    sa.download_export(\n",
    "        project = project[\"name\"],\n",
    "        export = export, \n",
    "        folder_path = export_dir)"
   ]
  },
  {
   "cell_type": "code",
   "execution_count": null,
   "metadata": {},
   "outputs": [],
   "source": [
    "#migrate projects\n",
    "import json\n",
    "\n",
    "with open(\"./data/target_token.json\") as tj:\n",
    "    token = {\"token\": \"3795f33abcc8fb52e595e8d03f69a6fd98eea2b11245ee467e37c845648000ae5af7467e1b49e9d297t=5717\"}\n",
    "    tj.write(json.dumps(token)) \n",
    "    \n",
    "sa.init('./data/target_token.json')\n",
    "\n",
    "for project_metadata in lane_projects:\n",
    "    sa.create_project_from_metadata(project_metadata)\n",
    "    project_name = project_metadata[\"name\"]\n",
    "    sa.create_annotation_classes_from_classes_json(\"{}/classes/classes.json\".format(project_name))\n",
    "    sa.upload_images_from_folder_to_project(project_name, project_name)\n",
    "    sa.upload_annotations_from_folder_to_project(project_name, project_name)"
   ]
  }
 ],
 "metadata": {
  "kernelspec": {
   "display_name": "tutorial",
   "language": "python",
   "name": "tutorial"
  },
  "language_info": {
   "codemirror_mode": {
    "name": "ipython",
    "version": 3
   },
   "file_extension": ".py",
   "mimetype": "text/x-python",
   "name": "python",
   "nbconvert_exporter": "python",
   "pygments_lexer": "ipython3",
   "version": "3.6.12"
  }
 },
 "nbformat": 4,
 "nbformat_minor": 4
}
