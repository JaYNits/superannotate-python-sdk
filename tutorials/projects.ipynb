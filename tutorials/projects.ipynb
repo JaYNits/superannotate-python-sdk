{
 "cells": [
  {
   "cell_type": "markdown",
   "metadata": {},
   "source": [
    "# Working with Projects\n",
    "\n",
    "Abstract"
   ]
  },
  {
   "cell_type": "code",
   "execution_count": 1,
   "metadata": {},
   "outputs": [
    {
     "name": "stderr",
     "output_type": "stream",
     "text": [
      "SA-PYTHON-SDK - INFO - There is a newer version of SuperAnnotate Python SDK available on PyPI. Run 'pip install --upgrade superannotate' to upgrade from your version 2.3.0 to 2.3.20.\n"
     ]
    }
   ],
   "source": [
    "import superannotate as sa"
   ]
  },
  {
   "cell_type": "code",
   "execution_count": 2,
   "metadata": {},
   "outputs": [
    {
     "name": "stderr",
     "output_type": "stream",
     "text": [
      "SA-PYTHON-SDK - INFO - Created project Lane Annotation (ID 17372) with type Vector\n"
     ]
    }
   ],
   "source": [
    "#create project\n",
    "project = sa.create_project(\n",
    "    project_name = \"Lane Annotation\",\n",
    "    project_description = \"Polyline Annotation for Lane Detection\",\n",
    "    project_type = \"Vector\")"
   ]
  },
  {
   "cell_type": "markdown",
   "metadata": {},
   "source": [
    "<img src=\"files/figures/create.png\">"
   ]
  },
  {
   "cell_type": "code",
   "execution_count": 3,
   "metadata": {},
   "outputs": [
    {
     "name": "stderr",
     "output_type": "stream",
     "text": [
      "SA-PYTHON-SDK - INFO - Uploading all images with extensions ['jpg', 'png'] from ./data/cityscapes to project Lane Annotation. Excluded file patterns are: ['___save.png', '___fuse.png'].\n",
      "SA-PYTHON-SDK - INFO - Uploading 4 images to project Lane Annotation.\n",
      "100%|██████████| 4/4 [00:07<00:00,  1.97s/it]\n"
     ]
    }
   ],
   "source": [
    "#upload images\n",
    "uploaded, skipped = sa.upload_images_from_folder_to_project(\n",
    "                        project = project[\"name\"],\n",
    "                        folder_path = \"./data/cityscapes\")"
   ]
  },
  {
   "cell_type": "markdown",
   "metadata": {},
   "source": [
    "<img src=\"files/figures/images.png\">"
   ]
  },
  {
   "cell_type": "code",
   "execution_count": 5,
   "metadata": {},
   "outputs": [
    {
     "name": "stderr",
     "output_type": "stream",
     "text": [
      "SA-PYTHON-SDK - INFO - Creating annotation class in project Lane Annotation with name Lane\n"
     ]
    }
   ],
   "source": [
    "#create annotaion class\n",
    "class_metadata = sa.create_annotation_class(\n",
    "                    project = project[\"name\"],\n",
    "                    name = \"Lane\",\n",
    "                    color = \"#FF0000\")"
   ]
  },
  {
   "cell_type": "markdown",
   "metadata": {},
   "source": [
    "<img src=\"files/figures/classes.png\">"
   ]
  },
  {
   "cell_type": "code",
   "execution_count": 6,
   "metadata": {},
   "outputs": [
    {
     "name": "stderr",
     "output_type": "stream",
     "text": [
      "SA-PYTHON-SDK - INFO - Created project Lane Annotation:1 (ID 17373) with type Vector\n",
      "SA-PYTHON-SDK - INFO - Copied image Lane Annotation/frankfurt_000000_011074_leftImg8bit.png to Lane Annotation:1/frankfurt_000000_011074_leftImg8bit.png.\n",
      "SA-PYTHON-SDK - INFO - Copied image Lane Annotation/frankfurt_000000_014480_leftImg8bit.png to Lane Annotation:1/frankfurt_000000_014480_leftImg8bit.png.\n",
      "SA-PYTHON-SDK - INFO - Copied image Lane Annotation/frankfurt_000001_011835_leftImg8bit.png to Lane Annotation:1/frankfurt_000001_011835_leftImg8bit.png.\n",
      "SA-PYTHON-SDK - INFO - Copied image Lane Annotation/frankfurt_000001_013016_leftImg8bit.png to Lane Annotation:1/frankfurt_000001_013016_leftImg8bit.png.\n",
      "SA-PYTHON-SDK - INFO - Created project Lane Annotation:2 (ID 17374) with type Vector\n",
      "SA-PYTHON-SDK - INFO - Copied image Lane Annotation/frankfurt_000000_011074_leftImg8bit.png to Lane Annotation:2/frankfurt_000000_011074_leftImg8bit.png.\n",
      "SA-PYTHON-SDK - INFO - Copied image Lane Annotation/frankfurt_000000_014480_leftImg8bit.png to Lane Annotation:2/frankfurt_000000_014480_leftImg8bit.png.\n",
      "SA-PYTHON-SDK - INFO - Copied image Lane Annotation/frankfurt_000001_011835_leftImg8bit.png to Lane Annotation:2/frankfurt_000001_011835_leftImg8bit.png.\n",
      "SA-PYTHON-SDK - INFO - Copied image Lane Annotation/frankfurt_000001_013016_leftImg8bit.png to Lane Annotation:2/frankfurt_000001_013016_leftImg8bit.png.\n",
      "SA-PYTHON-SDK - INFO - Created project Lane Annotation:3 (ID 17375) with type Vector\n",
      "SA-PYTHON-SDK - INFO - Copied image Lane Annotation/frankfurt_000000_011074_leftImg8bit.png to Lane Annotation:3/frankfurt_000000_011074_leftImg8bit.png.\n",
      "SA-PYTHON-SDK - INFO - Copied image Lane Annotation/frankfurt_000000_014480_leftImg8bit.png to Lane Annotation:3/frankfurt_000000_014480_leftImg8bit.png.\n",
      "SA-PYTHON-SDK - INFO - Copied image Lane Annotation/frankfurt_000001_011835_leftImg8bit.png to Lane Annotation:3/frankfurt_000001_011835_leftImg8bit.png.\n",
      "SA-PYTHON-SDK - INFO - Copied image Lane Annotation/frankfurt_000001_013016_leftImg8bit.png to Lane Annotation:3/frankfurt_000001_013016_leftImg8bit.png.\n"
     ]
    }
   ],
   "source": [
    "#clone project for multiple ....\n",
    "source_project_name = project[\"name\"]\n",
    "images = sa.search_images(project = source_project_name)\n",
    "provider_count = 3\n",
    "for provider_id in range(1, provider_count + 1):\n",
    "    destination_project_name = \"{}:{}\".format(source_project_name, provider_id)\n",
    "    #clone project\n",
    "    sa.create_project_like_project(\n",
    "        project_name = destination_project_name,\n",
    "        from_project = source_project_name,\n",
    "        project_description = project[\"description\"])\n",
    "    \n",
    "    #copy images\n",
    "    for image in images:\n",
    "        sa.copy_image(\n",
    "            source_project = source_project_name,\n",
    "            destination_project = destination_project_name,\n",
    "            image_name = image\n",
    "        )\n"
   ]
  },
  {
   "cell_type": "markdown",
   "metadata": {},
   "source": [
    "<img src=\"files/figures/clone.png\">"
   ]
  },
  {
   "cell_type": "code",
   "execution_count": 12,
   "metadata": {},
   "outputs": [
    {
     "name": "stderr",
     "output_type": "stream",
     "text": [
      "SA-PYTHON-SDK - INFO - Shared project Lane Annotation:1 with user tiruhi@superannotate.com and role Annotator\n"
     ]
    }
   ],
   "source": [
    "#Setup contributers\n",
    "team_metadata = sa.get_team_metadata(convert_users_role_to_string = True)\n",
    "team_members = team_metadata[\"users\"]\n",
    "\n",
    "#Share Project with all Annotators in the team\n",
    "project_name = \"Lane Annotation:1\"\n",
    "sharing_role = \"Annotator\"\n",
    "for member_metadata in team_members:\n",
    "    if member_metadata[\"user_role\"] == sharing_role:\n",
    "        sa.share_project(\n",
    "            project = project_name, \n",
    "            user = member_metadata[\"email\"],\n",
    "            user_role = sharing_role)"
   ]
  },
  {
   "cell_type": "markdown",
   "metadata": {},
   "source": [
    "<img src=\"files/figures/contributers.png\">"
   ]
  },
  {
   "cell_type": "code",
   "execution_count": 7,
   "metadata": {},
   "outputs": [
    {
     "name": "stderr",
     "output_type": "stream",
     "text": [
      "SA-PYTHON-SDK - INFO - Successfully renamed project Lane Annotation to Template Project.\n"
     ]
    }
   ],
   "source": [
    "#rename project\n",
    "sa.rename_project(\n",
    "    project = \"Lane Annotation\",\n",
    "    new_name = \"Template Project\")"
   ]
  },
  {
   "cell_type": "markdown",
   "metadata": {},
   "source": [
    "<img src=\"files/figures/rename.png\">"
   ]
  },
  {
   "cell_type": "code",
   "execution_count": 14,
   "metadata": {},
   "outputs": [
    {
     "name": "stderr",
     "output_type": "stream",
     "text": [
      "SA-PYTHON-SDK - INFO - Prepared export Dec 04 2020 17:49 Arsine.zip for project Lane Annotation:1 (ID 17373).\n",
      "SA-PYTHON-SDK - INFO - Waiting 5 seconds for export to finish on server.\n",
      "SA-PYTHON-SDK - INFO - Waiting 5 seconds for export to finish on server.\n",
      "SA-PYTHON-SDK - INFO - Extracted Dec 04 2020 17:49 Arsine.zip to folder .\n",
      "SA-PYTHON-SDK - INFO - Prepared export Dec 04 2020 17:49 Arsine.zip for project Lane Annotation:2 (ID 17374).\n",
      "SA-PYTHON-SDK - INFO - Extracted Dec 04 2020 17:49 Arsine.zip to folder .\n",
      "SA-PYTHON-SDK - INFO - Prepared export Dec 04 2020 17:49 Arsine.zip for project Lane Annotation:3 (ID 17375).\n",
      "SA-PYTHON-SDK - INFO - Extracted Dec 04 2020 17:49 Arsine.zip to folder .\n"
     ]
    }
   ],
   "source": [
    "#export projects\n",
    "lane_projects = sa.search_projects(name = \"Lane Annotation\", return_metadata = True)\n",
    "\n",
    "for project_metadata in lane_projects:\n",
    "    export = sa.prepare_export(project = project_metadata[\"name\"])\n",
    "    sa.download_export(\n",
    "        project = project_name,\n",
    "        export = export, \n",
    "        folder_path = \".\")"
   ]
  },
  {
   "cell_type": "code",
   "execution_count": null,
   "metadata": {},
   "outputs": [],
   "source": [
    "#migrate projects\n",
    "import json\n",
    "\n",
    "# with open(\"./data/target_token.json\") as tj:\n",
    "#     token = {\"token\": \"3795f33abcc8fb52e595e8d03f69a6fd98eea2b11245ee467e37c845648000ae5af7467e1b49e9d297t=5717\"}\n",
    "#     tj.write(json.dumps(token)) \n",
    "    \n",
    "sa.init('./data/target_token.json')\n",
    "\n",
    "for project_metadata in lane_projects:\n",
    "    sa.create_project_from_metadata(project_metadata)\n",
    "    project_name = project_metadata[\"name\"]\n",
    "    sa.create_annotation_classes_from_classes_json(\"{}/classes/classes.json\".format(project_name))\n",
    "    sa.upload_images_from_folder_to_project(project_name, project_name)\n",
    "    sa.upload_annotations_from_folder_to_project(project_name, project_name)"
   ]
  }
 ],
 "metadata": {
  "kernelspec": {
   "display_name": "Python 3",
   "language": "python",
   "name": "python3"
  },
  "language_info": {
   "codemirror_mode": {
    "name": "ipython",
    "version": 3
   },
   "file_extension": ".py",
   "mimetype": "text/x-python",
   "name": "python",
   "nbconvert_exporter": "python",
   "pygments_lexer": "ipython3",
   "version": "3.8.6"
  }
 },
 "nbformat": 4,
 "nbformat_minor": 4
}
