{
 "cells": [
  {
   "cell_type": "code",
   "execution_count": 2,
   "metadata": {},
   "outputs": [
    {
     "name": "stderr",
     "output_type": "stream",
     "text": [
      "SA-PYTHON-SDK - WARNING - Development version 2.4.0b5 of SuperAnnotate SDK is being used\n"
     ]
    }
   ],
   "source": [
    "import superannotate as sa"
   ]
  },
  {
   "cell_type": "code",
   "execution_count": 15,
   "metadata": {},
   "outputs": [
    {
     "name": "stderr",
     "output_type": "stream",
     "text": [
      "SA-PYTHON-SDK - INFO - Conversion completed successfully\n"
     ]
    }
   ],
   "source": [
    "#VOC to SA Pixel\n",
    "import os\n",
    "sa.import_annotation(\n",
    "    input_dir = \"./data/VOC2012\",\n",
    "    output_dir = \".\",\n",
    "    dataset_format = \"VOC\",\n",
    "    dataset_name = \"\",\n",
    "    project_type='Pixel',\n",
    "    task='instance_segmentation')"
   ]
  },
  {
   "cell_type": "code",
   "execution_count": 18,
   "metadata": {},
   "outputs": [
    {
     "name": "stderr",
     "output_type": "stream",
     "text": [
      "SA-PYTHON-SDK - INFO - Created project VOC2012 Pixel (ID 26710) with type Pixel\n",
      "SA-PYTHON-SDK - INFO - Creating annotation classes in project VOC2012 Pixel from ./VOC2012//classes/classes.json.\n",
      "SA-PYTHON-SDK - INFO - Uploading all images with extensions ['jpg', 'png'] from ./VOC2012/ to project VOC2012 Pixel. Excluded file patterns are: ['___save.png', '___fuse.png'].\n",
      "SA-PYTHON-SDK - INFO - Uploading 5 images to project VOC2012 Pixel.\n",
      "100%|██████████| 5/5 [00:06<00:00,  1.21s/it]\n",
      "SA-PYTHON-SDK - INFO - The JSON files should follow specific naming convention. For Vector projects they should be named '<image_name>___objects.json', for Pixel projects JSON file should be names '<image_name>___pixel.json' and also second mask image file should be present with the name '<image_name>___save.png'. In both cases image with <image_name> should be already present on the platform.\n",
      "SA-PYTHON-SDK - INFO - Existing annotations will be overwritten.\n",
      "SA-PYTHON-SDK - INFO - Uploading all annotations from ./VOC2012/ to project VOC2012 Pixel.\n",
      "SA-PYTHON-SDK - INFO - Uploading 5 annotations to project VOC2012 Pixel.\n",
      "100%|██████████| 5/5 [00:04<00:00,  1.16it/s]\n",
      "SA-PYTHON-SDK - INFO - Number of annotations uploaded 5.\n"
     ]
    },
    {
     "data": {
      "text/plain": [
       "['VOC2012/2011_000003.jpg___pixel.json',\n",
       " 'VOC2012/2008_000009.jpg___pixel.json',\n",
       " 'VOC2012/2010_000002.jpg___pixel.json',\n",
       " 'VOC2012/2007_000032.jpg___pixel.json',\n",
       " 'VOC2012/2009_000006.jpg___pixel.json']"
      ]
     },
     "execution_count": 18,
     "metadata": {},
     "output_type": "execute_result"
    }
   ],
   "source": [
    "#Upload Pixel to tool\n",
    "\n",
    "project_root = \"./VOC2012/\"\n",
    "rpject_name = \"VOC2012 Pixel\"\n",
    "sa.create_project(\n",
    "    project_name = ,\n",
    "    project_description = \"Instance Segmentation on VOC2012\",\n",
    "    project_type = \"Pixel\")\n",
    "sa.create_annotation_classes_from_classes_json(\n",
    "    project = \"VOC2012 Pixel\",\n",
    "    classes_json = \"{}/classes/classes.json\".format(project_root),\n",
    "    )\n",
    "sa.upload_images_from_folder_to_project(\n",
    "    project = \"VOC2012 Pixel\",\n",
    "    folder_path = project_root,\n",
    "    annotation_status = \"InProgress\")\n",
    "sa.upload_annotations_from_folder_to_project(\n",
    "    project = \"VOC2012 Pixel\",\n",
    "    folder_path = project_root)\n"
   ]
  },
  {
   "cell_type": "code",
   "execution_count": null,
   "metadata": {},
   "outputs": [],
   "source": [
    "#SA Pixel to SA Vector\n"
   ]
  },
  {
   "cell_type": "code",
   "execution_count": null,
   "metadata": {},
   "outputs": [],
   "source": [
    "#Export Vector Project "
   ]
  },
  {
   "cell_type": "code",
   "execution_count": null,
   "metadata": {},
   "outputs": [],
   "source": [
    "#Convert to COCO"
   ]
  },
  {
   "cell_type": "code",
   "execution_count": null,
   "metadata": {},
   "outputs": [],
   "source": [
    "#Other Platforms"
   ]
  }
 ],
 "metadata": {
  "kernelspec": {
   "display_name": "sdk_analytics",
   "language": "python",
   "name": "sdk_analytics"
  },
  "language_info": {
   "codemirror_mode": {
    "name": "ipython",
    "version": 3
   },
   "file_extension": ".py",
   "mimetype": "text/x-python",
   "name": "python",
   "nbconvert_exporter": "python",
   "pygments_lexer": "ipython3",
   "version": "3.6.7"
  }
 },
 "nbformat": 4,
 "nbformat_minor": 4
}
