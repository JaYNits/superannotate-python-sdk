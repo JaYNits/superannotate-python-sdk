{
 "cells": [
  {
   "cell_type": "code",
   "execution_count": 1,
   "metadata": {},
   "outputs": [
    {
     "name": "stderr",
     "output_type": "stream",
     "text": [
      "SA-PYTHON-SDK - WARNING - Development version 2.4.0b5 of SuperAnnotate SDK is being used\n"
     ]
    }
   ],
   "source": [
    "import superannotate as sa"
   ]
  },
  {
   "cell_type": "code",
   "execution_count": 3,
   "metadata": {},
   "outputs": [
    {
     "name": "stderr",
     "output_type": "stream",
     "text": [
      "SA-PYTHON-SDK - INFO - Conversion completed successfully\n"
     ]
    }
   ],
   "source": [
    "#VOC to SA Pixel\n",
    "import os\n",
    "sa.import_annotation(\n",
    "    input_dir = \"./data/VOC2012\",\n",
    "    output_dir = \"./VOC2012\",\n",
    "    dataset_format = \"VOC\",\n",
    "    project_type='Pixel',\n",
    "    task='instance_segmentation')"
   ]
  },
  {
   "cell_type": "code",
   "execution_count": 6,
   "metadata": {},
   "outputs": [
    {
     "name": "stderr",
     "output_type": "stream",
     "text": [
      "SA-PYTHON-SDK - INFO - Created project VOC2012 Pixel (ID 26719) with type Pixel\n",
      "SA-PYTHON-SDK - INFO - Creating annotation classes in project VOC2012 Pixel from ./VOC2012//classes/classes.json.\n",
      "SA-PYTHON-SDK - INFO - Uploading all images with extensions ['jpg', 'png'] from ./VOC2012/ to project VOC2012 Pixel. Excluded file patterns are: ['___save.png', '___fuse.png'].\n",
      "SA-PYTHON-SDK - INFO - Uploading 5 images to project VOC2012 Pixel.\n",
      "100%|██████████| 5/5 [00:06<00:00,  1.22s/it]\n",
      "SA-PYTHON-SDK - INFO - The JSON files should follow specific naming convention. For Vector projects they should be named '<image_name>___objects.json', for Pixel projects JSON file should be names '<image_name>___pixel.json' and also second mask image file should be present with the name '<image_name>___save.png'. In both cases image with <image_name> should be already present on the platform.\n",
      "SA-PYTHON-SDK - INFO - Existing annotations will be overwritten.\n",
      "SA-PYTHON-SDK - INFO - Uploading all annotations from ./VOC2012/ to project VOC2012 Pixel.\n",
      "SA-PYTHON-SDK - INFO - Uploading 5 annotations to project VOC2012 Pixel.\n",
      "100%|██████████| 5/5 [00:04<00:00,  1.11it/s]\n",
      "SA-PYTHON-SDK - INFO - Number of annotations uploaded 5.\n"
     ]
    },
    {
     "data": {
      "text/plain": [
       "['VOC2012/2011_000003.jpg___pixel.json',\n",
       " 'VOC2012/2008_000009.jpg___pixel.json',\n",
       " 'VOC2012/2010_000002.jpg___pixel.json',\n",
       " 'VOC2012/2007_000032.jpg___pixel.json',\n",
       " 'VOC2012/2009_000006.jpg___pixel.json']"
      ]
     },
     "execution_count": 6,
     "metadata": {},
     "output_type": "execute_result"
    }
   ],
   "source": [
    "#Upload Pixel to tool\n",
    "project_root = \"./VOC2012/\"\n",
    "project_name = \"VOC2012 Pixel\"\n",
    "sa.create_project(\n",
    "    project_name = project_name,\n",
    "    project_description = \"Instance Segmentation on VOC2012\",\n",
    "    project_type = \"Pixel\")\n",
    "sa.create_annotation_classes_from_classes_json(\n",
    "    project = project_name,\n",
    "    classes_json = \"{}/classes/classes.json\".format(project_root),\n",
    "    )\n",
    "sa.upload_images_from_folder_to_project(\n",
    "    project = project_name,\n",
    "    folder_path = project_root,\n",
    "    annotation_status = \"InProgress\")\n",
    "sa.upload_annotations_from_folder_to_project(\n",
    "    project = project_name,\n",
    "    folder_path = project_root)\n"
   ]
  },
  {
   "cell_type": "code",
   "execution_count": 7,
   "metadata": {},
   "outputs": [],
   "source": [
    "#SA Pixel to SA Vector\n",
    "sa.convert_project_type(\"./VOC2012\",\"./VOC2012Vector\")"
   ]
  },
  {
   "cell_type": "code",
   "execution_count": 11,
   "metadata": {},
   "outputs": [
    {
     "name": "stderr",
     "output_type": "stream",
     "text": [
      "SA-PYTHON-SDK - INFO - Created project VOC2012 Vector (ID 26721) with type Vector\n",
      "SA-PYTHON-SDK - INFO - Creating annotation classes in project VOC2012 Vector from ./VOC2012Vector//classes/classes.json.\n",
      "SA-PYTHON-SDK - INFO - Uploading all images with extensions ['jpg', 'png'] from ./VOC2012Vector/ to project VOC2012 Vector. Excluded file patterns are: ['___save.png', '___fuse.png'].\n",
      "SA-PYTHON-SDK - INFO - Uploading 5 images to project VOC2012 Vector.\n",
      "100%|██████████| 5/5 [00:05<00:00,  1.20s/it]\n",
      "SA-PYTHON-SDK - INFO - The JSON files should follow specific naming convention. For Vector projects they should be named '<image_name>___objects.json', for Pixel projects JSON file should be names '<image_name>___pixel.json' and also second mask image file should be present with the name '<image_name>___save.png'. In both cases image with <image_name> should be already present on the platform.\n",
      "SA-PYTHON-SDK - INFO - Existing annotations will be overwritten.\n",
      "SA-PYTHON-SDK - INFO - Uploading all annotations from ./VOC2012Vector/ to project VOC2012 Vector.\n",
      "SA-PYTHON-SDK - INFO - Uploading 5 annotations to project VOC2012 Vector.\n",
      "100%|██████████| 5/5 [00:04<00:00,  1.14it/s]\n",
      "SA-PYTHON-SDK - INFO - Number of annotations uploaded 5.\n"
     ]
    },
    {
     "data": {
      "text/plain": [
       "['VOC2012Vector/2011_000003.jpg___objects.json',\n",
       " 'VOC2012Vector/2008_000009.jpg___objects.json',\n",
       " 'VOC2012Vector/2007_000032.jpg___objects.json',\n",
       " 'VOC2012Vector/2010_000002.jpg___objects.json',\n",
       " 'VOC2012Vector/2009_000006.jpg___objects.json']"
      ]
     },
     "execution_count": 11,
     "metadata": {},
     "output_type": "execute_result"
    }
   ],
   "source": [
    "#Upload Vector to tool\n",
    "project_root = \"./VOC2012Vector/\"\n",
    "project_name = \"VOC2012 Vector\"\n",
    "sa.create_project(\n",
    "    project_name = project_name,\n",
    "    project_description = \"Instance Segmentation on VOC2012\",\n",
    "    project_type = \"Vector\")\n",
    "sa.create_annotation_classes_from_classes_json(\n",
    "    project = project_name,\n",
    "    classes_json = \"{}/classes/classes.json\".format(project_root),\n",
    "    )\n",
    "sa.upload_images_from_folder_to_project(\n",
    "    project = project_name,\n",
    "    folder_path = project_root,\n",
    "    annotation_status = \"InProgress\")\n",
    "sa.upload_annotations_from_folder_to_project(\n",
    "    project = project_name,\n",
    "    folder_path = project_root)"
   ]
  },
  {
   "cell_type": "code",
   "execution_count": null,
   "metadata": {},
   "outputs": [],
   "source": [
    "#Other Platforms\n",
    "sa.export_annotation(\n",
    "    input_dir = \"./VOC2012\", output_dir, dataset_format, dataset_name, project_type='Vector', task='object_detection', platform='Web')\n",
    ")"
   ]
  }
 ],
 "metadata": {
  "kernelspec": {
   "display_name": "sdk_analytics",
   "language": "python",
   "name": "sdk_analytics"
  },
  "language_info": {
   "codemirror_mode": {
    "name": "ipython",
    "version": 3
   },
   "file_extension": ".py",
   "mimetype": "text/x-python",
   "name": "python",
   "nbconvert_exporter": "python",
   "pygments_lexer": "ipython3",
   "version": "3.6.7"
  }
 },
 "nbformat": 4,
 "nbformat_minor": 4
}
