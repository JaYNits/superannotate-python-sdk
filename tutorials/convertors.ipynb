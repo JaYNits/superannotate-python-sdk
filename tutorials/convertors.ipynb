{
 "cells": [
  {
   "cell_type": "code",
   "execution_count": 1,
   "metadata": {},
   "outputs": [
    {
     "name": "stderr",
     "output_type": "stream",
     "text": [
      "SA-PYTHON-SDK - WARNING - Development version 2.4.0b5 of SuperAnnotate SDK is being used\n"
     ]
    }
   ],
   "source": [
    "import superannotate as sa"
   ]
  },
  {
   "cell_type": "code",
   "execution_count": null,
   "metadata": {},
   "outputs": [],
   "source": [
    "#VOC to SA Pixel\n",
    "sa.import_annotation(\n",
    "    input_dir = \"./data/VOC2012\",\n",
    "    output_dir = \"\",\n",
    "    dataset_format = \"VOC\",\n",
    "    dataset_name = \"\",\n",
    "    project_type='Pixel',\n",
    "    task='instance_segmentation')"
   ]
  },
  {
   "cell_type": "code",
   "execution_count": null,
   "metadata": {},
   "outputs": [],
   "source": [
    "#Upload Pixel to tool"
   ]
  },
  {
   "cell_type": "code",
   "execution_count": null,
   "metadata": {},
   "outputs": [],
   "source": [
    "#SA Pixel to SA Vector"
   ]
  },
  {
   "cell_type": "code",
   "execution_count": null,
   "metadata": {},
   "outputs": [],
   "source": [
    "#Export Vector Project "
   ]
  },
  {
   "cell_type": "code",
   "execution_count": null,
   "metadata": {},
   "outputs": [],
   "source": [
    "#Convert to COCO"
   ]
  },
  {
   "cell_type": "code",
   "execution_count": null,
   "metadata": {},
   "outputs": [],
   "source": [
    "#Other Platforms"
   ]
  }
 ],
 "metadata": {
  "kernelspec": {
   "display_name": "sdk_analytics",
   "language": "python",
   "name": "sdk_analytics"
  },
  "language_info": {
   "codemirror_mode": {
    "name": "ipython",
    "version": 3
   },
   "file_extension": ".py",
   "mimetype": "text/x-python",
   "name": "python",
   "nbconvert_exporter": "python",
   "pygments_lexer": "ipython3",
   "version": "3.6.7"
  }
 },
 "nbformat": 4,
 "nbformat_minor": 4
}
