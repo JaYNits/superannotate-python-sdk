{
 "cells": [
  {
   "cell_type": "code",
   "execution_count": 20,
   "metadata": {},
   "outputs": [],
   "source": [
    "import superannotate as sa"
   ]
  },
  {
   "cell_type": "code",
   "execution_count": 21,
   "metadata": {},
   "outputs": [
    {
     "name": "stderr",
     "output_type": "stream",
     "text": [
      "SA-PYTHON-SDK - INFO - Created project Naturalist (ID 17950) with type Vector\n"
     ]
    }
   ],
   "source": [
    "sa_project = sa.create_project(\n",
    "            project_name = \"Naturalist\",\n",
    "            project_description = \"Fauna Species\",\n",
    "            project_type = \"Vector\")"
   ]
  },
  {
   "cell_type": "code",
   "execution_count": 22,
   "metadata": {},
   "outputs": [],
   "source": [
    "#Upload single image\n",
    "import os\n",
    "\n",
    "data_root = \"./data/naturalist/koala\"\n",
    "sa.upload_image_to_project(\n",
    "    project = sa_project[\"name\"],\n",
    "    img = os.path.join(data_root, \"100.jpg\"),\n",
    "    image_name = \"koala.jpg\",\n",
    "    image_quality_in_editor = \"original\")"
   ]
  },
  {
   "cell_type": "code",
   "execution_count": 27,
   "metadata": {},
   "outputs": [
    {
     "name": "stderr",
     "output_type": "stream",
     "text": [
      "SA-PYTHON-SDK - WARNING - 2 already existing images found that won't be uploaded.\n",
      "SA-PYTHON-SDK - INFO - Uploading 1 images to project Naturalist.\n",
      "  0%|          | 0/1 [00:00<?, ?it/s]SA-PYTHON-SDK - WARNING - Unable to open image [Errno 2] No such file or directory: './data/naturalist/koala/1.jpg'.\n",
      "100%|██████████| 1/1 [00:00<00:00,  8.50it/s]\n",
      "SA-PYTHON-SDK - WARNING - Couldn't upload image ./data/naturalist/koala/1.jpg\n"
     ]
    },
    {
     "name": "stdout",
     "output_type": "stream",
     "text": [
      "Uploaded: [] \n",
      " Skipped: ['./data/naturalist/koala/1.jpg'] \n",
      " Duplicate: ['./data/naturalist/koala/100.jpg', './data/naturalist/koala/1000.jpg']\n"
     ]
    }
   ],
   "source": [
    "#Upload list of images\n",
    "uploaded, skipped, duplicate = sa.upload_images_to_project(\n",
    "                project = sa_project[\"name\"],\n",
    "                img_paths = [\n",
    "                    os.path.join(data_root, \"1.jpg\"),\n",
    "                    os.path.join(data_root,\"100.jpg\"),\n",
    "                    os.path.join(data_root,\"1000.jpg\")]\n",
    "                )\n",
    "print(\"Uploaded: {} \\n Skipped: {} \\n Duplicate: {}\".format(uploaded,skipped,duplicate))"
   ]
  },
  {
   "cell_type": "code",
   "execution_count": 29,
   "metadata": {},
   "outputs": [
    {
     "name": "stderr",
     "output_type": "stream",
     "text": [
      "SA-PYTHON-SDK - INFO - When using recursive subfolder parsing same name images in different subfolders will overwrite each other.\n",
      "SA-PYTHON-SDK - INFO - Uploading all images with extensions ['jpg', 'png'] from ./data/naturalist to project Naturalist. Excluded file patterns are: ['___save.png', '___fuse.png'].\n",
      "SA-PYTHON-SDK - WARNING - 2 already existing images found that won't be uploaded.\n",
      "SA-PYTHON-SDK - INFO - Uploading 38 images to project Naturalist.\n",
      "100%|██████████| 38/38 [00:09<00:00,  4.18it/s]\n"
     ]
    }
   ],
   "source": [
    "#Upload folder of images\n",
    "uploaded,skipped,duplicate = sa.upload_images_from_folder_to_project(\n",
    "    project = sa_project[\"name\"],\n",
    "    folder_path = \"./data/naturalist\",\n",
    "    annotation_status = \"QualityCheck\",\n",
    "    recursive_subfolders = True)"
   ]
  },
  {
   "cell_type": "code",
   "execution_count": 37,
   "metadata": {},
   "outputs": [
    {
     "name": "stderr",
     "output_type": "stream",
     "text": [
      "SA-PYTHON-SDK - WARNING - 1 already existing images found that won't be uploaded.\n",
      "SA-PYTHON-SDK - INFO - Uploading 0 images to project Naturalist.\n"
     ]
    },
    {
     "name": "stdout",
     "output_type": "stream",
     "text": [
      "([], [], ['pexels-ike-louie-natividad-5450829.jpg'], [])\n"
     ]
    }
   ],
   "source": [
    "#Upload images from Public Links\n",
    "upload_status = sa.upload_images_from_public_urls_to_project(\n",
    "    project = project[\"name\"],\n",
    "    img_urls = [\"https://www.pexels.com/photo/5450829/download/\"])\n",
    "\n",
    "print(upload_status)"
   ]
  },
  {
   "cell_type": "code",
   "execution_count": null,
   "metadata": {},
   "outputs": [],
   "source": [
    "#Upload images from S3\n",
    "sa.upload_images_from_s3_bucket_to_project(\n",
    "    project = project[\"name\"],\n",
    "    accessKeyId = access_key_id,\n",
    "    secretAccessKey = access_secret,\n",
    "    bucket_name = s3_bucket_name,\n",
    "    folder_path = s3_folder_path\n",
    ")"
   ]
  },
  {
   "cell_type": "code",
   "execution_count": null,
   "metadata": {},
   "outputs": [],
   "source": [
    "#Upload images from Google Cloud\n",
    "# sa.upload_images_from_google_cloud_to_project(\n",
    "#     project = project[\"name\"],\n",
    "#     google_project = gc_project_name,\n",
    "#     bucket_name = gc_bucket_name,\n",
    "#     folder_path = gc_folder_path\n",
    "#     )"
   ]
  },
  {
   "cell_type": "code",
   "execution_count": null,
   "metadata": {},
   "outputs": [],
   "source": [
    "#Upload images from Azure\n",
    "# sa.upload_images_from_azure_blob_to_project(\n",
    "#     project = project[\"name\"],\n",
    "#     container_name = azure_container\n",
    "#     folder_path = azure_folder_path\n",
    "#     )"
   ]
  },
  {
   "cell_type": "code",
   "execution_count": 40,
   "metadata": {},
   "outputs": [
    {
     "name": "stdout",
     "output_type": "stream",
     "text": [
      "total: 42\n"
     ]
    }
   ],
   "source": [
    "total_image_count = sa.get_project_image_count(project[\"name\"])\n",
    "print(\"total:\", total_image_count)"
   ]
  },
  {
   "cell_type": "code",
   "execution_count": 44,
   "metadata": {},
   "outputs": [
    {
     "name": "stdout",
     "output_type": "stream",
     "text": [
      "not started: 2\n"
     ]
    }
   ],
   "source": [
    "filtered_images = sa.search_images(\n",
    "                project = project[\"name\"],\n",
    "                annotation_status = \"NotStarted\",\n",
    "                image_name_prefix = \"100\")\n",
    "print(\"not started:\", len(filtered_images))"
   ]
  },
  {
   "cell_type": "code",
   "execution_count": 45,
   "metadata": {},
   "outputs": [],
   "source": [
    "for image in filtered_images:\n",
    "    sa.pin_image(\n",
    "        project = project[\"name\"],\n",
    "        image_name = image,\n",
    "        pin = True)\n",
    "  "
   ]
  },
  {
   "cell_type": "code",
   "execution_count": null,
   "metadata": {},
   "outputs": [],
   "source": [
    "# Download Pinned Images"
   ]
  },
  {
   "cell_type": "code",
   "execution_count": null,
   "metadata": {},
   "outputs": [],
   "source": [
    "# Filter images with tags"
   ]
  },
  {
   "cell_type": "code",
   "execution_count": null,
   "metadata": {},
   "outputs": [],
   "source": [
    "# Change image annotation status to skipped"
   ]
  },
  {
   "cell_type": "code",
   "execution_count": null,
   "metadata": {},
   "outputs": [],
   "source": [
    "# Move Skipped Images to a new project"
   ]
  },
  {
   "cell_type": "code",
   "execution_count": null,
   "metadata": {},
   "outputs": [],
   "source": [
    "# Filter images with comments"
   ]
  },
  {
   "cell_type": "code",
   "execution_count": null,
   "metadata": {},
   "outputs": [],
   "source": [
    "# Assign to QA's"
   ]
  }
 ],
 "metadata": {
  "kernelspec": {
   "display_name": "sdk_analytics",
   "language": "python",
   "name": "sdk_analytics"
  },
  "language_info": {
   "codemirror_mode": {
    "name": "ipython",
    "version": 3
   },
   "file_extension": ".py",
   "mimetype": "text/x-python",
   "name": "python",
   "nbconvert_exporter": "python",
   "pygments_lexer": "ipython3",
   "version": "3.6.7"
  }
 },
 "nbformat": 4,
 "nbformat_minor": 4
}
